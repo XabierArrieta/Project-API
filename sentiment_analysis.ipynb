{
 "cells": [
  {
   "cell_type": "markdown",
   "id": "direct-musical",
   "metadata": {},
   "source": [
    "# Sentiment analysis"
   ]
  },
  {
   "cell_type": "markdown",
   "id": "japanese-arrest",
   "metadata": {},
   "source": [
    "## Importo las librerias necesarias"
   ]
  },
  {
   "cell_type": "code",
   "execution_count": 1,
   "id": "billion-oakland",
   "metadata": {},
   "outputs": [],
   "source": [
    "import pandas as pd\n",
    "\n",
    "#NLTK\n",
    "import nltk\n",
    "from nltk.sentiment.vader import SentimentIntensityAnalyzer\n",
    "\n",
    "from nltk.corpus import stopwords\n",
    "\n",
    "#TextBlob\n",
    "from textblob import TextBlob\n",
    "\n",
    "import seaborn as sns\n",
    "import matplotlib as plt\n",
    "import matplotlib.pyplot as plt\n",
    "\n",
    "from pymongo import MongoClient"
   ]
  },
  {
   "cell_type": "markdown",
   "id": "joint-penguin",
   "metadata": {},
   "source": [
    "## Importo la colección Quotes guardado en .csv"
   ]
  },
  {
   "cell_type": "code",
   "execution_count": 2,
   "id": "varied-aggregate",
   "metadata": {},
   "outputs": [
    {
     "data": {
      "text/plain": [
       "'http://127.0.0.1:5000/phrase'"
      ]
     },
     "execution_count": 2,
     "metadata": {},
     "output_type": "execute_result"
    }
   ],
   "source": [
    "\"http://127.0.0.1:5000/phrase\""
   ]
  },
  {
   "cell_type": "code",
   "execution_count": 3,
   "id": "worst-bronze",
   "metadata": {},
   "outputs": [
    {
     "data": {
      "text/html": [
       "<div>\n",
       "<style scoped>\n",
       "    .dataframe tbody tr th:only-of-type {\n",
       "        vertical-align: middle;\n",
       "    }\n",
       "\n",
       "    .dataframe tbody tr th {\n",
       "        vertical-align: top;\n",
       "    }\n",
       "\n",
       "    .dataframe thead th {\n",
       "        text-align: right;\n",
       "    }\n",
       "</style>\n",
       "<table border=\"1\" class=\"dataframe\">\n",
       "  <thead>\n",
       "    <tr style=\"text-align: right;\">\n",
       "      <th></th>\n",
       "      <th>Characters</th>\n",
       "      <th>Phrase</th>\n",
       "      <th>Movie</th>\n",
       "      <th>Year</th>\n",
       "    </tr>\n",
       "  </thead>\n",
       "  <tbody>\n",
       "    <tr>\n",
       "      <th>0</th>\n",
       "      <td>Harry Potter</td>\n",
       "      <td>I’ll be in my bedroom, making no noise and pre...</td>\n",
       "      <td>Harry Potter and the Chamber of Secrets</td>\n",
       "      <td>2002</td>\n",
       "    </tr>\n",
       "    <tr>\n",
       "      <th>1</th>\n",
       "      <td>Harry Potter</td>\n",
       "      <td>I solemnly swear I am up to no good.</td>\n",
       "      <td>Harry Potter and the Prisoner of Azkaban</td>\n",
       "      <td>2004</td>\n",
       "    </tr>\n",
       "    <tr>\n",
       "      <th>2</th>\n",
       "      <td>Harry Potter</td>\n",
       "      <td>Mischief Managed!</td>\n",
       "      <td>Harry Potter and the Prisoner of Azkaban</td>\n",
       "      <td>2004</td>\n",
       "    </tr>\n",
       "    <tr>\n",
       "      <th>3</th>\n",
       "      <td>Harry Potter</td>\n",
       "      <td>There is no need to call me ‘sir,’ Professor.</td>\n",
       "      <td>Harry Potter and the Half-Blood Prince</td>\n",
       "      <td>2009</td>\n",
       "    </tr>\n",
       "    <tr>\n",
       "      <th>4</th>\n",
       "      <td>Harry Potter</td>\n",
       "      <td>I can, you know, do math and stuff.</td>\n",
       "      <td>Harry Potter and the Philosopher's Stone</td>\n",
       "      <td>2001</td>\n",
       "    </tr>\n",
       "  </tbody>\n",
       "</table>\n",
       "</div>"
      ],
      "text/plain": [
       "     Characters                                             Phrase  \\\n",
       "0  Harry Potter  I’ll be in my bedroom, making no noise and pre...   \n",
       "1  Harry Potter               I solemnly swear I am up to no good.   \n",
       "2  Harry Potter                                  Mischief Managed!   \n",
       "3  Harry Potter      There is no need to call me ‘sir,’ Professor.   \n",
       "4  Harry Potter                I can, you know, do math and stuff.   \n",
       "\n",
       "                                      Movie  Year  \n",
       "0   Harry Potter and the Chamber of Secrets  2002  \n",
       "1  Harry Potter and the Prisoner of Azkaban  2004  \n",
       "2  Harry Potter and the Prisoner of Azkaban  2004  \n",
       "3    Harry Potter and the Half-Blood Prince  2009  \n",
       "4  Harry Potter and the Philosopher's Stone  2001  "
      ]
     },
     "execution_count": 3,
     "metadata": {},
     "output_type": "execute_result"
    }
   ],
   "source": [
    "df = pd.read_csv(\"data/quotes.csv\")\n",
    "df.head()"
   ]
  },
  {
   "cell_type": "markdown",
   "id": "continuous-peoples",
   "metadata": {},
   "source": [
    "## Compruebo cuales son las \"Stopwords\"\n",
    "Las palabras (en mi caso, en inglés),  que no aportan significado a una frase. Se pueden ignorar sin afectar al significado de la frase. "
   ]
  },
  {
   "cell_type": "code",
   "execution_count": 4,
   "id": "tender-essence",
   "metadata": {},
   "outputs": [
    {
     "name": "stderr",
     "output_type": "stream",
     "text": [
      "[nltk_data] Downloading package stopwords to\n",
      "[nltk_data]     /Users/xabier/nltk_data...\n",
      "[nltk_data]   Package stopwords is already up-to-date!\n"
     ]
    },
    {
     "data": {
      "text/plain": [
       "True"
      ]
     },
     "execution_count": 4,
     "metadata": {},
     "output_type": "execute_result"
    }
   ],
   "source": [
    "nltk.download('stopwords') #stopwords"
   ]
  },
  {
   "cell_type": "code",
   "execution_count": 5,
   "id": "norwegian-minority",
   "metadata": {},
   "outputs": [
    {
     "name": "stdout",
     "output_type": "stream",
     "text": [
      "{\"isn't\", 'an', 'and', 'will', 'other', 'up', 'each', 'those', 'no', 'd', 'hasn', 'during', 'our', 'be', 'through', 'myself', 'am', 'they', 'so', 're', 've', 'on', 'which', 'at', 'him', 'ain', 'been', 'its', 'there', 'here', 'for', 'his', 'did', 'down', 'but', 'her', \"don't\", 'yourself', 'to', 'were', \"mustn't\", \"shan't\", \"you'd\", \"weren't\", 'isn', 'should', 'can', 'while', 'your', 'that', 'had', \"needn't\", \"should've\", 'being', 'then', \"you're\", 'needn', 'off', 'me', 'themselves', 'about', 'any', 'my', 'couldn', 'shan', 'in', 'into', 'are', 'just', 'if', 'yours', 'why', \"it's\", 'mustn', \"hasn't\", 'by', 'nor', \"couldn't\", \"won't\", 'whom', 'where', 'too', \"didn't\", \"haven't\", 'with', 'all', \"you'll\", 'doesn', 'was', 's', 'y', 'ourselves', 'before', 'after', 'wouldn', 'does', 'do', 'she', 'most', 'a', 'doing', 'from', 'same', 'himself', \"hadn't\", 'out', 'their', 'above', 't', 'them', 'not', 'both', 'further', \"mightn't\", 'wasn', \"shouldn't\", 'only', 'against', 'over', 'who', 'such', 'again', 'o', 'until', 'the', 'ma', 'don', 'or', 'theirs', \"doesn't\", 'of', 'having', 'you', 'has', 'what', 'shouldn', 'is', 'very', 'weren', 'hers', 'below', 'yourselves', \"aren't\", 'll', 'once', \"wouldn't\", \"that'll\", 'when', 'herself', 'this', \"she's\", 'it', 'how', 'now', 'didn', 'hadn', 'because', 'these', 'mightn', 'he', 'have', 'we', 'as', 'ours', \"wasn't\", 'some', 'own', 'itself', 'aren', 'haven', 'under', 'won', 'than', 'between', 'few', \"you've\", 'i', 'm', 'more'}\n"
     ]
    }
   ],
   "source": [
    "stop_words = set(stopwords.words('english'))\n",
    "print(stop_words)"
   ]
  },
  {
   "cell_type": "code",
   "execution_count": 6,
   "id": "micro-principle",
   "metadata": {},
   "outputs": [
    {
     "data": {
      "text/plain": [
       "Sentiment(polarity=0.0, subjectivity=0.0)"
      ]
     },
     "execution_count": 6,
     "metadata": {},
     "output_type": "execute_result"
    }
   ],
   "source": [
    "blob = TextBlob(df[\"Phrase\"][0])\n",
    "blob.sentiment"
   ]
  },
  {
   "cell_type": "markdown",
   "id": "dietary-relationship",
   "metadata": {},
   "source": [
    "# Textblob\n",
    "\n",
    "- La librería TextBlob se usa para procesar datos de texto. Se obtiene una métrica de polaridad y subjetividad. \n",
    "    - La polaridad es el sentimiento mismo, que va de -1 a +1. \n",
    "    - La subjetividad es una medida del sentimiento siendo objetivo a subjetivo, y va de 0 a 1. \n",
    "\n",
    "Sintáxis: TextBlob(the_string).sentiment\n",
    "    \n",
    "\n",
    "    Args: string\n",
    "    Returns: polarity & subjectivity"
   ]
  },
  {
   "cell_type": "markdown",
   "id": "massive-anxiety",
   "metadata": {},
   "source": [
    "## Ejemplos de frases de los personajes"
   ]
  },
  {
   "cell_type": "code",
   "execution_count": 7,
   "id": "contrary-fellow",
   "metadata": {},
   "outputs": [],
   "source": [
    "phrase0 = \"I love you\" #test\n",
    "phrase1 = \"I solemnly swear I am up to no good.\" #Harry Potter\n",
    "phrase2 = \"Fear of a name only increases fear of the thing itself.\" #Hermione Gringer\n",
    "phrase3 = \"Don’t let the muggles get you down.\" #Ron Weasley\n",
    "phrase4 = \"We are only as strong as we are united, as weak as we are divided.\" #Albus Dumbledore\n",
    "phrase5 = \"We teachers are rather good at magic, you know.\" #Minerva McGonagall\n",
    "phrase6 = \"Clearly fame isn't everything, is it, Mr. Potter?.\" #Severus Snape\n",
    "phrase7 = \"Dry Up Dursley, You Big Prune.\" #Rubeus Hagrid\n",
    "phrase8 = \"This class is ridiculous\" #Draco Malfoy\n",
    "phrase9 = \"Bad Dobby! Bad Dobby!\" #Dobby\n",
    "phrase10 = \"Don't you turn your back on me, Harry Potter! I want you to look at me when I kill you! I want to see the light leave your eyes!\" #Voldemort"
   ]
  },
  {
   "cell_type": "code",
   "execution_count": 8,
   "id": "global-consolidation",
   "metadata": {},
   "outputs": [
    {
     "data": {
      "text/plain": [
       "Sentiment(polarity=0.5, subjectivity=0.6)"
      ]
     },
     "execution_count": 8,
     "metadata": {},
     "output_type": "execute_result"
    }
   ],
   "source": [
    "blob = TextBlob(phrase0)\n",
    "blob.sentiment"
   ]
  },
  {
   "cell_type": "code",
   "execution_count": 9,
   "id": "forced-accounting",
   "metadata": {},
   "outputs": [
    {
     "data": {
      "text/plain": [
       "Sentiment(polarity=-0.35, subjectivity=0.6000000000000001)"
      ]
     },
     "execution_count": 9,
     "metadata": {},
     "output_type": "execute_result"
    }
   ],
   "source": [
    "blob = TextBlob(phrase1)\n",
    "blob.sentiment"
   ]
  },
  {
   "cell_type": "code",
   "execution_count": 10,
   "id": "arabic-gentleman",
   "metadata": {},
   "outputs": [
    {
     "data": {
      "text/plain": [
       "Sentiment(polarity=0.0, subjectivity=1.0)"
      ]
     },
     "execution_count": 10,
     "metadata": {},
     "output_type": "execute_result"
    }
   ],
   "source": [
    "blob = TextBlob(phrase2)\n",
    "blob.sentiment"
   ]
  },
  {
   "cell_type": "code",
   "execution_count": 11,
   "id": "violent-defense",
   "metadata": {},
   "outputs": [
    {
     "data": {
      "text/plain": [
       "Sentiment(polarity=-0.15555555555555559, subjectivity=0.2888888888888889)"
      ]
     },
     "execution_count": 11,
     "metadata": {},
     "output_type": "execute_result"
    }
   ],
   "source": [
    "blob = TextBlob(phrase3)\n",
    "blob.sentiment"
   ]
  },
  {
   "cell_type": "code",
   "execution_count": 12,
   "id": "theoretical-spouse",
   "metadata": {},
   "outputs": [
    {
     "data": {
      "text/plain": [
       "Sentiment(polarity=0.01944444444444443, subjectivity=0.7861111111111111)"
      ]
     },
     "execution_count": 12,
     "metadata": {},
     "output_type": "execute_result"
    }
   ],
   "source": [
    "blob = TextBlob(phrase4)\n",
    "blob.sentiment"
   ]
  },
  {
   "cell_type": "code",
   "execution_count": 13,
   "id": "pleased-association",
   "metadata": {},
   "outputs": [
    {
     "data": {
      "text/plain": [
       "Sentiment(polarity=0.6, subjectivity=0.8)"
      ]
     },
     "execution_count": 13,
     "metadata": {},
     "output_type": "execute_result"
    }
   ],
   "source": [
    "\"We teachers are rather good at magic, you know.\" #Minerva McGonagall\n",
    "blob = TextBlob(phrase5)\n",
    "blob.sentiment"
   ]
  },
  {
   "cell_type": "code",
   "execution_count": 14,
   "id": "every-barbados",
   "metadata": {},
   "outputs": [
    {
     "data": {
      "text/plain": [
       "Sentiment(polarity=0.10000000000000002, subjectivity=0.3833333333333333)"
      ]
     },
     "execution_count": 14,
     "metadata": {},
     "output_type": "execute_result"
    }
   ],
   "source": [
    "blob = TextBlob(phrase6)\n",
    "blob.sentiment"
   ]
  },
  {
   "cell_type": "code",
   "execution_count": 15,
   "id": "round-treat",
   "metadata": {},
   "outputs": [
    {
     "data": {
      "text/plain": [
       "Sentiment(polarity=-0.033333333333333326, subjectivity=0.35)"
      ]
     },
     "execution_count": 15,
     "metadata": {},
     "output_type": "execute_result"
    }
   ],
   "source": [
    "blob = TextBlob(phrase7)\n",
    "blob.sentiment"
   ]
  },
  {
   "cell_type": "code",
   "execution_count": 16,
   "id": "sealed-saying",
   "metadata": {},
   "outputs": [
    {
     "data": {
      "text/plain": [
       "Sentiment(polarity=-0.3333333333333333, subjectivity=1.0)"
      ]
     },
     "execution_count": 16,
     "metadata": {},
     "output_type": "execute_result"
    }
   ],
   "source": [
    "blob = TextBlob(phrase8)\n",
    "blob.sentiment"
   ]
  },
  {
   "cell_type": "code",
   "execution_count": 17,
   "id": "solid-rendering",
   "metadata": {},
   "outputs": [
    {
     "data": {
      "text/plain": [
       "Sentiment(polarity=-0.8749999999999998, subjectivity=0.6666666666666666)"
      ]
     },
     "execution_count": 17,
     "metadata": {},
     "output_type": "execute_result"
    }
   ],
   "source": [
    "\"Bad Dobby! Bad Dobby!\" #Dobby\n",
    "blob = TextBlob(phrase9)\n",
    "blob.sentiment"
   ]
  },
  {
   "cell_type": "code",
   "execution_count": 18,
   "id": "paperback-corpus",
   "metadata": {},
   "outputs": [
    {
     "data": {
      "text/plain": [
       "Sentiment(polarity=0.25, subjectivity=0.35)"
      ]
     },
     "execution_count": 18,
     "metadata": {},
     "output_type": "execute_result"
    }
   ],
   "source": [
    "blob = TextBlob(phrase10)\n",
    "blob.sentiment"
   ]
  },
  {
   "cell_type": "markdown",
   "id": "supposed-spare",
   "metadata": {},
   "source": [
    "# NLTK (Natural Language Toolkit)\n",
    "- Es un conjunto de bibliotecas y programas de Python para el procesamiento del lenguaje natural (PLN) simbólico y estadísticos.\n",
    "\n",
    "Sintáxis:sia.polarity_scores(the_string)\n",
    "\n",
    "        Args: string\n",
    "        Returns: polarity"
   ]
  },
  {
   "cell_type": "code",
   "execution_count": 19,
   "id": "invisible-habitat",
   "metadata": {},
   "outputs": [
    {
     "name": "stderr",
     "output_type": "stream",
     "text": [
      "[nltk_data] Downloading package vader_lexicon to\n",
      "[nltk_data]     /Users/xabier/nltk_data...\n",
      "[nltk_data]   Package vader_lexicon is already up-to-date!\n"
     ]
    },
    {
     "data": {
      "text/plain": [
       "True"
      ]
     },
     "execution_count": 19,
     "metadata": {},
     "output_type": "execute_result"
    }
   ],
   "source": [
    "nltk.downloader.download('vader_lexicon')"
   ]
  },
  {
   "cell_type": "code",
   "execution_count": 20,
   "id": "sustained-coordination",
   "metadata": {},
   "outputs": [],
   "source": [
    "sia = SentimentIntensityAnalyzer()"
   ]
  },
  {
   "cell_type": "code",
   "execution_count": 21,
   "id": "palestinian-burner",
   "metadata": {},
   "outputs": [],
   "source": [
    "test1 = \"this is beautiful\""
   ]
  },
  {
   "cell_type": "code",
   "execution_count": 22,
   "id": "christian-partnership",
   "metadata": {},
   "outputs": [
    {
     "data": {
      "text/plain": [
       "{'neg': 0.0, 'neu': 0.339, 'pos': 0.661, 'compound': 0.5994}"
      ]
     },
     "execution_count": 22,
     "metadata": {},
     "output_type": "execute_result"
    }
   ],
   "source": [
    "polarity = sia.polarity_scores(test1)\n",
    "polarity"
   ]
  },
  {
   "cell_type": "code",
   "execution_count": 23,
   "id": "opening-graduation",
   "metadata": {},
   "outputs": [],
   "source": [
    "def sentimentAnalysis(sentence):\n",
    "    sia = SentimentIntensityAnalyzer()\n",
    "    polarity = sia.polarity_scores(sentence)\n",
    "    pol = polarity['compound']\n",
    "    return pol"
   ]
  },
  {
   "cell_type": "code",
   "execution_count": 24,
   "id": "touched-junction",
   "metadata": {},
   "outputs": [
    {
     "data": {
      "text/plain": [
       "0.5994"
      ]
     },
     "execution_count": 24,
     "metadata": {},
     "output_type": "execute_result"
    }
   ],
   "source": [
    "sentimentAnalysis(test1)"
   ]
  },
  {
   "cell_type": "markdown",
   "id": "several-island",
   "metadata": {},
   "source": [
    "## Aplico la función de sentimentAnalysis en el Dataframe"
   ]
  },
  {
   "cell_type": "code",
   "execution_count": 25,
   "id": "electronic-present",
   "metadata": {},
   "outputs": [
    {
     "data": {
      "text/html": [
       "<div>\n",
       "<style scoped>\n",
       "    .dataframe tbody tr th:only-of-type {\n",
       "        vertical-align: middle;\n",
       "    }\n",
       "\n",
       "    .dataframe tbody tr th {\n",
       "        vertical-align: top;\n",
       "    }\n",
       "\n",
       "    .dataframe thead th {\n",
       "        text-align: right;\n",
       "    }\n",
       "</style>\n",
       "<table border=\"1\" class=\"dataframe\">\n",
       "  <thead>\n",
       "    <tr style=\"text-align: right;\">\n",
       "      <th></th>\n",
       "      <th>Characters</th>\n",
       "      <th>Phrase</th>\n",
       "      <th>Movie</th>\n",
       "      <th>Year</th>\n",
       "      <th>sentiment_compound</th>\n",
       "    </tr>\n",
       "  </thead>\n",
       "  <tbody>\n",
       "    <tr>\n",
       "      <th>0</th>\n",
       "      <td>Harry Potter</td>\n",
       "      <td>I’ll be in my bedroom, making no noise and pre...</td>\n",
       "      <td>Harry Potter and the Chamber of Secrets</td>\n",
       "      <td>2002</td>\n",
       "      <td>-0.2023</td>\n",
       "    </tr>\n",
       "    <tr>\n",
       "      <th>1</th>\n",
       "      <td>Harry Potter</td>\n",
       "      <td>I solemnly swear I am up to no good.</td>\n",
       "      <td>Harry Potter and the Prisoner of Azkaban</td>\n",
       "      <td>2004</td>\n",
       "      <td>0.3182</td>\n",
       "    </tr>\n",
       "    <tr>\n",
       "      <th>2</th>\n",
       "      <td>Harry Potter</td>\n",
       "      <td>Mischief Managed!</td>\n",
       "      <td>Harry Potter and the Prisoner of Azkaban</td>\n",
       "      <td>2004</td>\n",
       "      <td>-0.4199</td>\n",
       "    </tr>\n",
       "    <tr>\n",
       "      <th>3</th>\n",
       "      <td>Harry Potter</td>\n",
       "      <td>There is no need to call me ‘sir,’ Professor.</td>\n",
       "      <td>Harry Potter and the Half-Blood Prince</td>\n",
       "      <td>2009</td>\n",
       "      <td>-0.2960</td>\n",
       "    </tr>\n",
       "    <tr>\n",
       "      <th>4</th>\n",
       "      <td>Harry Potter</td>\n",
       "      <td>I can, you know, do math and stuff.</td>\n",
       "      <td>Harry Potter and the Philosopher's Stone</td>\n",
       "      <td>2001</td>\n",
       "      <td>0.0000</td>\n",
       "    </tr>\n",
       "    <tr>\n",
       "      <th>5</th>\n",
       "      <td>Harry Potter</td>\n",
       "      <td>Are you insane? Of course I want to leave the ...</td>\n",
       "      <td>Harry Potter and the Prisoner of Azkaban</td>\n",
       "      <td>2004</td>\n",
       "      <td>-0.5318</td>\n",
       "    </tr>\n",
       "    <tr>\n",
       "      <th>6</th>\n",
       "      <td>Harry Potter</td>\n",
       "      <td>Yeah, Quirrell was a great teacher. There was ...</td>\n",
       "      <td>Harry Potter and the Order of the Phoenix</td>\n",
       "      <td>2007</td>\n",
       "      <td>0.7644</td>\n",
       "    </tr>\n",
       "    <tr>\n",
       "      <th>7</th>\n",
       "      <td>Harry Potter</td>\n",
       "      <td>I know some things,’ he said. ‘I can, you know...</td>\n",
       "      <td>Harry Potter and the Philosopher's Stone</td>\n",
       "      <td>2001</td>\n",
       "      <td>0.0000</td>\n",
       "    </tr>\n",
       "    <tr>\n",
       "      <th>8</th>\n",
       "      <td>Albus Dumbledore</td>\n",
       "      <td>It does not do to dwell on dreams and forget t...</td>\n",
       "      <td>Harry Potter and the Philosopher's Stone</td>\n",
       "      <td>2001</td>\n",
       "      <td>0.1103</td>\n",
       "    </tr>\n",
       "    <tr>\n",
       "      <th>9</th>\n",
       "      <td>Albus Dumbledore</td>\n",
       "      <td>Fear of a name increases fear of the thing its...</td>\n",
       "      <td>Harry Potter and the Philosopher's Stone</td>\n",
       "      <td>2001</td>\n",
       "      <td>-0.7506</td>\n",
       "    </tr>\n",
       "    <tr>\n",
       "      <th>10</th>\n",
       "      <td>Albus Dumbledore</td>\n",
       "      <td>Ah, music,’ he said, wiping his eyes. ‘A magic...</td>\n",
       "      <td>Harry Potter and the Philosopher's Stone</td>\n",
       "      <td>2001</td>\n",
       "      <td>0.0000</td>\n",
       "    </tr>\n",
       "    <tr>\n",
       "      <th>11</th>\n",
       "      <td>Albus Dumbledore</td>\n",
       "      <td>Your mother died to save you. If there is one ...</td>\n",
       "      <td>Harry Potter and the Philosopher's Stone</td>\n",
       "      <td>2001</td>\n",
       "      <td>0.9618</td>\n",
       "    </tr>\n",
       "    <tr>\n",
       "      <th>12</th>\n",
       "      <td>Albus Dumbledore</td>\n",
       "      <td>As much money and life as you could want! The ...</td>\n",
       "      <td>Harry Potter and the Philosopher's Stone</td>\n",
       "      <td>2001</td>\n",
       "      <td>-0.7777</td>\n",
       "    </tr>\n",
       "    <tr>\n",
       "      <th>13</th>\n",
       "      <td>Albus Dumbledore</td>\n",
       "      <td>The consequences of our actions are always so ...</td>\n",
       "      <td>Harry Potter and the Prisoner of Azkaban</td>\n",
       "      <td>2004</td>\n",
       "      <td>-0.4201</td>\n",
       "    </tr>\n",
       "    <tr>\n",
       "      <th>14</th>\n",
       "      <td>Albus Dumbledore</td>\n",
       "      <td>We are only as strong as we are united, as wea...</td>\n",
       "      <td>Harry Potter and the Goblet of Fire</td>\n",
       "      <td>2005</td>\n",
       "      <td>0.4939</td>\n",
       "    </tr>\n",
       "  </tbody>\n",
       "</table>\n",
       "</div>"
      ],
      "text/plain": [
       "          Characters                                             Phrase  \\\n",
       "0       Harry Potter  I’ll be in my bedroom, making no noise and pre...   \n",
       "1       Harry Potter               I solemnly swear I am up to no good.   \n",
       "2       Harry Potter                                  Mischief Managed!   \n",
       "3       Harry Potter      There is no need to call me ‘sir,’ Professor.   \n",
       "4       Harry Potter                I can, you know, do math and stuff.   \n",
       "5       Harry Potter  Are you insane? Of course I want to leave the ...   \n",
       "6       Harry Potter  Yeah, Quirrell was a great teacher. There was ...   \n",
       "7       Harry Potter  I know some things,’ he said. ‘I can, you know...   \n",
       "8   Albus Dumbledore  It does not do to dwell on dreams and forget t...   \n",
       "9   Albus Dumbledore  Fear of a name increases fear of the thing its...   \n",
       "10  Albus Dumbledore  Ah, music,’ he said, wiping his eyes. ‘A magic...   \n",
       "11  Albus Dumbledore  Your mother died to save you. If there is one ...   \n",
       "12  Albus Dumbledore  As much money and life as you could want! The ...   \n",
       "13  Albus Dumbledore  The consequences of our actions are always so ...   \n",
       "14  Albus Dumbledore  We are only as strong as we are united, as wea...   \n",
       "\n",
       "                                        Movie  Year  sentiment_compound  \n",
       "0     Harry Potter and the Chamber of Secrets  2002             -0.2023  \n",
       "1    Harry Potter and the Prisoner of Azkaban  2004              0.3182  \n",
       "2    Harry Potter and the Prisoner of Azkaban  2004             -0.4199  \n",
       "3      Harry Potter and the Half-Blood Prince  2009             -0.2960  \n",
       "4    Harry Potter and the Philosopher's Stone  2001              0.0000  \n",
       "5    Harry Potter and the Prisoner of Azkaban  2004             -0.5318  \n",
       "6   Harry Potter and the Order of the Phoenix  2007              0.7644  \n",
       "7    Harry Potter and the Philosopher's Stone  2001              0.0000  \n",
       "8    Harry Potter and the Philosopher's Stone  2001              0.1103  \n",
       "9    Harry Potter and the Philosopher's Stone  2001             -0.7506  \n",
       "10   Harry Potter and the Philosopher's Stone  2001              0.0000  \n",
       "11   Harry Potter and the Philosopher's Stone  2001              0.9618  \n",
       "12   Harry Potter and the Philosopher's Stone  2001             -0.7777  \n",
       "13   Harry Potter and the Prisoner of Azkaban  2004             -0.4201  \n",
       "14        Harry Potter and the Goblet of Fire  2005              0.4939  "
      ]
     },
     "execution_count": 25,
     "metadata": {},
     "output_type": "execute_result"
    }
   ],
   "source": [
    "df['sentiment_compound'] = df.Phrase.apply(sentimentAnalysis)\n",
    "df[:15]"
   ]
  },
  {
   "cell_type": "code",
   "execution_count": 26,
   "id": "forced-married",
   "metadata": {},
   "outputs": [
    {
     "data": {
      "text/plain": [
       "Harry Potter          8\n",
       "Hermione Granger      8\n",
       "Ron Weasley           8\n",
       "Albus Dumbledore      8\n",
       "Severus Snape         5\n",
       "Rubeus Hagrid         3\n",
       "Voldemort             3\n",
       "Minerva McGonagall    3\n",
       "Dobby                 3\n",
       "Draco Malfoy          3\n",
       "Name: Characters, dtype: int64"
      ]
     },
     "execution_count": 26,
     "metadata": {},
     "output_type": "execute_result"
    }
   ],
   "source": [
    "df.Characters.value_counts()"
   ]
  },
  {
   "cell_type": "code",
   "execution_count": 27,
   "id": "smaller-monday",
   "metadata": {},
   "outputs": [
    {
     "data": {
      "text/plain": [
       "Characters\n",
       "Voldemort            -0.711400\n",
       "Draco Malfoy         -0.146800\n",
       "Albus Dumbledore     -0.128875\n",
       "Dobby                -0.112567\n",
       "Hermione Granger     -0.063000\n",
       "Harry Potter         -0.045925\n",
       "Rubeus Hagrid         0.000000\n",
       "Severus Snape         0.037380\n",
       "Ron Weasley           0.077900\n",
       "Minerva McGonagall    0.146800\n",
       "Name: sentiment_compound, dtype: float64"
      ]
     },
     "execution_count": 27,
     "metadata": {},
     "output_type": "execute_result"
    }
   ],
   "source": [
    "resumen = df.groupby(['Characters'])['sentiment_compound'].mean().sort_values()\n",
    "resumen"
   ]
  },
  {
   "cell_type": "markdown",
   "id": "alone-hormone",
   "metadata": {},
   "source": [
    "### Conclusión 1:\n",
    "\n",
    "- Voldemort, es el principal antagonista de la saga Harry Potter y los resultados demuestran que es con \n",
    "   una media de -0.711400, el que tiene la polaridad más negativa.\n",
    "- Minerva McGonagall, en cambio, según la muestra, es la que con una media de 0.146800, la que tiene más polaridad\n",
    "   positiva.\n",
    "    \n"
   ]
  },
  {
   "cell_type": "code",
   "execution_count": 28,
   "id": "statutory-venezuela",
   "metadata": {},
   "outputs": [
    {
     "data": {
      "text/plain": [
       "<AxesSubplot:xlabel='Characters'>"
      ]
     },
     "execution_count": 28,
     "metadata": {},
     "output_type": "execute_result"
    },
    {
     "data": {
      "image/png": "[encoded data removed]",
      "text/plain": [
       "<Figure size 864x576 with 1 Axes>"
      ]
     },
     "metadata": {},
     "output_type": "display_data"
    }
   ],
   "source": [
    "sns.set(rc={'figure.figsize':(12,8)})\n",
    "resumen.plot(kind=\"bar\")"
   ]
  },
  {
   "cell_type": "markdown",
   "id": "original-uncle",
   "metadata": {},
   "source": [
    "## Voy a analizar a los 3 principales protagonistas\n",
    "    - Harry Potter\n",
    "    - Hermione Granger\n",
    "    - Ron Weasley"
   ]
  },
  {
   "cell_type": "markdown",
   "id": "superb-ballot",
   "metadata": {},
   "source": [
    "### Conecto con mongo y a través de queries obtengo los datos de cada uno de ellos."
   ]
  },
  {
   "cell_type": "code",
   "execution_count": 29,
   "id": "scheduled-democrat",
   "metadata": {},
   "outputs": [],
   "source": [
    "client = MongoClient(\"mongodb://localhost/harrypotter\")\n",
    "db = client.get_database()\n",
    "client.harrypotter\n",
    "sentiment = client.harrypotter.sentiment"
   ]
  },
  {
   "cell_type": "code",
   "execution_count": 30,
   "id": "standing-granny",
   "metadata": {},
   "outputs": [
    {
     "data": {
      "text/plain": [
       "[{'Characters': 'Harry Potter',\n",
       "  'Phrase': 'I’ll be in my bedroom, making no noise and pretending I’m not there.',\n",
       "  'Movie': 'Harry Potter and the Chamber of Secrets',\n",
       "  'Year': '2002'},\n",
       " {'Characters': 'Harry Potter',\n",
       "  'Phrase': 'I solemnly swear I am up to no good.',\n",
       "  'Movie': 'Harry Potter and the Prisoner of Azkaban',\n",
       "  'Year': '2004'},\n",
       " {'Characters': 'Harry Potter',\n",
       "  'Phrase': 'Mischief Managed!',\n",
       "  'Movie': 'Harry Potter and the Prisoner of Azkaban',\n",
       "  'Year': '2004'},\n",
       " {'Characters': 'Harry Potter',\n",
       "  'Phrase': 'There is no need to call me ‘sir,’ Professor.',\n",
       "  'Movie': 'Harry Potter and the Half-Blood Prince',\n",
       "  'Year': '2009'},\n",
       " {'Characters': 'Harry Potter',\n",
       "  'Phrase': 'I can, you know, do math and stuff.',\n",
       "  'Movie': \"Harry Potter and the Philosopher's Stone\",\n",
       "  'Year': '2001'},\n",
       " {'Characters': 'Harry Potter',\n",
       "  'Phrase': 'Are you insane? Of course I want to leave the Dursleys! Have you got a house? When can I move in?',\n",
       "  'Movie': 'Harry Potter and the Prisoner of Azkaban',\n",
       "  'Year': '2004'},\n",
       " {'Characters': 'Harry Potter',\n",
       "  'Phrase': 'Yeah, Quirrell was a great teacher. There was just that minor drawback of him having Lord Voldemort sticking out of the back of his head!',\n",
       "  'Movie': 'Harry Potter and the Order of the Phoenix',\n",
       "  'Year': '2007'},\n",
       " {'Characters': 'Harry Potter',\n",
       "  'Phrase': 'I know some things,’ he said. ‘I can, you know, do math and stuff.',\n",
       "  'Movie': \"Harry Potter and the Philosopher's Stone\",\n",
       "  'Year': '2001'}]"
      ]
     },
     "execution_count": 30,
     "metadata": {},
     "output_type": "execute_result"
    }
   ],
   "source": [
    "filtro = {\"Characters\": {'$eq': \"Harry Potter\"}}\n",
    "proyecto =  {'_id': 0}\n",
    "result = list(db[\"sentiment\"].find(filtro, proyecto))\n",
    "result"
   ]
  },
  {
   "cell_type": "code",
   "execution_count": 31,
   "id": "excess-pasta",
   "metadata": {},
   "outputs": [],
   "source": [
    "hp = result"
   ]
  },
  {
   "cell_type": "markdown",
   "id": "lonely-classification",
   "metadata": {},
   "source": [
    "### Creo un Dataframe con los datos de Harry Potter"
   ]
  },
  {
   "cell_type": "code",
   "execution_count": 32,
   "id": "middle-performance",
   "metadata": {},
   "outputs": [
    {
     "data": {
      "text/html": [
       "<div>\n",
       "<style scoped>\n",
       "    .dataframe tbody tr th:only-of-type {\n",
       "        vertical-align: middle;\n",
       "    }\n",
       "\n",
       "    .dataframe tbody tr th {\n",
       "        vertical-align: top;\n",
       "    }\n",
       "\n",
       "    .dataframe thead th {\n",
       "        text-align: right;\n",
       "    }\n",
       "</style>\n",
       "<table border=\"1\" class=\"dataframe\">\n",
       "  <thead>\n",
       "    <tr style=\"text-align: right;\">\n",
       "      <th></th>\n",
       "      <th>Characters</th>\n",
       "      <th>Phrase</th>\n",
       "      <th>Movie</th>\n",
       "      <th>Year</th>\n",
       "    </tr>\n",
       "  </thead>\n",
       "  <tbody>\n",
       "    <tr>\n",
       "      <th>0</th>\n",
       "      <td>Harry Potter</td>\n",
       "      <td>I’ll be in my bedroom, making no noise and pre...</td>\n",
       "      <td>Harry Potter and the Chamber of Secrets</td>\n",
       "      <td>2002</td>\n",
       "    </tr>\n",
       "    <tr>\n",
       "      <th>1</th>\n",
       "      <td>Harry Potter</td>\n",
       "      <td>I solemnly swear I am up to no good.</td>\n",
       "      <td>Harry Potter and the Prisoner of Azkaban</td>\n",
       "      <td>2004</td>\n",
       "    </tr>\n",
       "    <tr>\n",
       "      <th>2</th>\n",
       "      <td>Harry Potter</td>\n",
       "      <td>Mischief Managed!</td>\n",
       "      <td>Harry Potter and the Prisoner of Azkaban</td>\n",
       "      <td>2004</td>\n",
       "    </tr>\n",
       "    <tr>\n",
       "      <th>3</th>\n",
       "      <td>Harry Potter</td>\n",
       "      <td>There is no need to call me ‘sir,’ Professor.</td>\n",
       "      <td>Harry Potter and the Half-Blood Prince</td>\n",
       "      <td>2009</td>\n",
       "    </tr>\n",
       "    <tr>\n",
       "      <th>4</th>\n",
       "      <td>Harry Potter</td>\n",
       "      <td>I can, you know, do math and stuff.</td>\n",
       "      <td>Harry Potter and the Philosopher's Stone</td>\n",
       "      <td>2001</td>\n",
       "    </tr>\n",
       "    <tr>\n",
       "      <th>5</th>\n",
       "      <td>Harry Potter</td>\n",
       "      <td>Are you insane? Of course I want to leave the ...</td>\n",
       "      <td>Harry Potter and the Prisoner of Azkaban</td>\n",
       "      <td>2004</td>\n",
       "    </tr>\n",
       "    <tr>\n",
       "      <th>6</th>\n",
       "      <td>Harry Potter</td>\n",
       "      <td>Yeah, Quirrell was a great teacher. There was ...</td>\n",
       "      <td>Harry Potter and the Order of the Phoenix</td>\n",
       "      <td>2007</td>\n",
       "    </tr>\n",
       "    <tr>\n",
       "      <th>7</th>\n",
       "      <td>Harry Potter</td>\n",
       "      <td>I know some things,’ he said. ‘I can, you know...</td>\n",
       "      <td>Harry Potter and the Philosopher's Stone</td>\n",
       "      <td>2001</td>\n",
       "    </tr>\n",
       "  </tbody>\n",
       "</table>\n",
       "</div>"
      ],
      "text/plain": [
       "     Characters                                             Phrase  \\\n",
       "0  Harry Potter  I’ll be in my bedroom, making no noise and pre...   \n",
       "1  Harry Potter               I solemnly swear I am up to no good.   \n",
       "2  Harry Potter                                  Mischief Managed!   \n",
       "3  Harry Potter      There is no need to call me ‘sir,’ Professor.   \n",
       "4  Harry Potter                I can, you know, do math and stuff.   \n",
       "5  Harry Potter  Are you insane? Of course I want to leave the ...   \n",
       "6  Harry Potter  Yeah, Quirrell was a great teacher. There was ...   \n",
       "7  Harry Potter  I know some things,’ he said. ‘I can, you know...   \n",
       "\n",
       "                                       Movie  Year  \n",
       "0    Harry Potter and the Chamber of Secrets  2002  \n",
       "1   Harry Potter and the Prisoner of Azkaban  2004  \n",
       "2   Harry Potter and the Prisoner of Azkaban  2004  \n",
       "3     Harry Potter and the Half-Blood Prince  2009  \n",
       "4   Harry Potter and the Philosopher's Stone  2001  \n",
       "5   Harry Potter and the Prisoner of Azkaban  2004  \n",
       "6  Harry Potter and the Order of the Phoenix  2007  \n",
       "7   Harry Potter and the Philosopher's Stone  2001  "
      ]
     },
     "execution_count": 32,
     "metadata": {},
     "output_type": "execute_result"
    }
   ],
   "source": [
    "df1 = pd.DataFrame(hp)\n",
    "df1"
   ]
  },
  {
   "cell_type": "code",
   "execution_count": 33,
   "id": "chicken-investor",
   "metadata": {},
   "outputs": [
    {
     "data": {
      "text/plain": [
       "[{'Characters': 'Hermione Granger',\n",
       "  'Phrase': 'Just because it’s taken you three years to notice, Ron, doesn’t mean no one else has spotted I’m a girl!',\n",
       "  'Movie': 'Harry Potter and the Goblet of Fire',\n",
       "  'Year': '2005'},\n",
       " {'Characters': 'Hermione Granger',\n",
       "  'Phrase': 'Dumbledore says people find it far easier to forgive others for being wrong than being right.',\n",
       "  'Movie': 'Harry Potter and the Half-Blood Prince',\n",
       "  'Year': '2009'},\n",
       " {'Characters': 'Hermione Granger',\n",
       "  'Phrase': 'Who cares? I mean, It´s sort of exciting, isn´t it, breaking the rules.',\n",
       "  'Movie': 'Harry Potter and the Order of the Phoenix',\n",
       "  'Year': '2007'},\n",
       " {'Characters': 'Hermione Granger',\n",
       "  'Phrase': 'Excuse me, I have to go vomit.',\n",
       "  'Movie': 'Harry Potter and the Half-Blood Prince',\n",
       "  'Year': '2009'},\n",
       " {'Characters': 'Hermione Granger',\n",
       "  'Phrase': 'I hope you’re pleased with yourselves. We could all have been killed – or worse, expelled. Now if you don’t mind, I’m going to bed.',\n",
       "  'Movie': \"Harry Potter and the Philosopher's Stone\",\n",
       "  'Year': '2001'},\n",
       " {'Characters': 'Hermione Granger',\n",
       "  'Phrase': 'Twitchy little ferret, aren’t you, Malfoy?',\n",
       "  'Movie': 'Harry Potter and the Goblet of Fire',\n",
       "  'Year': '2005'},\n",
       " {'Characters': 'Hermione Granger',\n",
       "  'Phrase': 'Fear of a name only increases fear of the thing itself.',\n",
       "  'Movie': 'Harry Potter and the Chamber of Secrets',\n",
       "  'Year': '2002'},\n",
       " {'Characters': 'Hermione Granger',\n",
       "  'Phrase': \"Just because you have the emotional range of a teaspoon doesn't mean we all have.\",\n",
       "  'Movie': 'Harry Potter and the Order of the Phoenix',\n",
       "  'Year': '2007'}]"
      ]
     },
     "execution_count": 33,
     "metadata": {},
     "output_type": "execute_result"
    }
   ],
   "source": [
    "filtro = {\"Characters\": {'$eq': \"Hermione Granger\"}}\n",
    "proyecto =  {'_id': 0}\n",
    "result2 = list(db[\"sentiment\"].find(filtro, proyecto))\n",
    "result2"
   ]
  },
  {
   "cell_type": "code",
   "execution_count": 34,
   "id": "serial-transfer",
   "metadata": {},
   "outputs": [],
   "source": [
    "hg = result2"
   ]
  },
  {
   "cell_type": "markdown",
   "id": "geographic-baseline",
   "metadata": {},
   "source": [
    "### Creo otro Dataframe con los datos de Hermione Granger"
   ]
  },
  {
   "cell_type": "code",
   "execution_count": 35,
   "id": "realistic-antigua",
   "metadata": {},
   "outputs": [
    {
     "data": {
      "text/html": [
       "<div>\n",
       "<style scoped>\n",
       "    .dataframe tbody tr th:only-of-type {\n",
       "        vertical-align: middle;\n",
       "    }\n",
       "\n",
       "    .dataframe tbody tr th {\n",
       "        vertical-align: top;\n",
       "    }\n",
       "\n",
       "    .dataframe thead th {\n",
       "        text-align: right;\n",
       "    }\n",
       "</style>\n",
       "<table border=\"1\" class=\"dataframe\">\n",
       "  <thead>\n",
       "    <tr style=\"text-align: right;\">\n",
       "      <th></th>\n",
       "      <th>Characters</th>\n",
       "      <th>Phrase</th>\n",
       "      <th>Movie</th>\n",
       "      <th>Year</th>\n",
       "    </tr>\n",
       "  </thead>\n",
       "  <tbody>\n",
       "    <tr>\n",
       "      <th>0</th>\n",
       "      <td>Hermione Granger</td>\n",
       "      <td>Just because it’s taken you three years to not...</td>\n",
       "      <td>Harry Potter and the Goblet of Fire</td>\n",
       "      <td>2005</td>\n",
       "    </tr>\n",
       "    <tr>\n",
       "      <th>1</th>\n",
       "      <td>Hermione Granger</td>\n",
       "      <td>Dumbledore says people find it far easier to f...</td>\n",
       "      <td>Harry Potter and the Half-Blood Prince</td>\n",
       "      <td>2009</td>\n",
       "    </tr>\n",
       "    <tr>\n",
       "      <th>2</th>\n",
       "      <td>Hermione Granger</td>\n",
       "      <td>Who cares? I mean, It´s sort of exciting, isn´...</td>\n",
       "      <td>Harry Potter and the Order of the Phoenix</td>\n",
       "      <td>2007</td>\n",
       "    </tr>\n",
       "    <tr>\n",
       "      <th>3</th>\n",
       "      <td>Hermione Granger</td>\n",
       "      <td>Excuse me, I have to go vomit.</td>\n",
       "      <td>Harry Potter and the Half-Blood Prince</td>\n",
       "      <td>2009</td>\n",
       "    </tr>\n",
       "    <tr>\n",
       "      <th>4</th>\n",
       "      <td>Hermione Granger</td>\n",
       "      <td>I hope you’re pleased with yourselves. We coul...</td>\n",
       "      <td>Harry Potter and the Philosopher's Stone</td>\n",
       "      <td>2001</td>\n",
       "    </tr>\n",
       "    <tr>\n",
       "      <th>5</th>\n",
       "      <td>Hermione Granger</td>\n",
       "      <td>Twitchy little ferret, aren’t you, Malfoy?</td>\n",
       "      <td>Harry Potter and the Goblet of Fire</td>\n",
       "      <td>2005</td>\n",
       "    </tr>\n",
       "    <tr>\n",
       "      <th>6</th>\n",
       "      <td>Hermione Granger</td>\n",
       "      <td>Fear of a name only increases fear of the thin...</td>\n",
       "      <td>Harry Potter and the Chamber of Secrets</td>\n",
       "      <td>2002</td>\n",
       "    </tr>\n",
       "    <tr>\n",
       "      <th>7</th>\n",
       "      <td>Hermione Granger</td>\n",
       "      <td>Just because you have the emotional range of a...</td>\n",
       "      <td>Harry Potter and the Order of the Phoenix</td>\n",
       "      <td>2007</td>\n",
       "    </tr>\n",
       "  </tbody>\n",
       "</table>\n",
       "</div>"
      ],
      "text/plain": [
       "         Characters                                             Phrase  \\\n",
       "0  Hermione Granger  Just because it’s taken you three years to not...   \n",
       "1  Hermione Granger  Dumbledore says people find it far easier to f...   \n",
       "2  Hermione Granger  Who cares? I mean, It´s sort of exciting, isn´...   \n",
       "3  Hermione Granger                     Excuse me, I have to go vomit.   \n",
       "4  Hermione Granger  I hope you’re pleased with yourselves. We coul...   \n",
       "5  Hermione Granger         Twitchy little ferret, aren’t you, Malfoy?   \n",
       "6  Hermione Granger  Fear of a name only increases fear of the thin...   \n",
       "7  Hermione Granger  Just because you have the emotional range of a...   \n",
       "\n",
       "                                       Movie  Year  \n",
       "0        Harry Potter and the Goblet of Fire  2005  \n",
       "1     Harry Potter and the Half-Blood Prince  2009  \n",
       "2  Harry Potter and the Order of the Phoenix  2007  \n",
       "3     Harry Potter and the Half-Blood Prince  2009  \n",
       "4   Harry Potter and the Philosopher's Stone  2001  \n",
       "5        Harry Potter and the Goblet of Fire  2005  \n",
       "6    Harry Potter and the Chamber of Secrets  2002  \n",
       "7  Harry Potter and the Order of the Phoenix  2007  "
      ]
     },
     "execution_count": 35,
     "metadata": {},
     "output_type": "execute_result"
    }
   ],
   "source": [
    "df2 = pd.DataFrame(hg)\n",
    "df2"
   ]
  },
  {
   "cell_type": "code",
   "execution_count": 36,
   "id": "interim-basics",
   "metadata": {},
   "outputs": [
    {
     "data": {
      "text/plain": [
       "[{'Characters': 'Ron Weasley',\n",
       "  'Phrase': \"You're a little scary sometimes, you know that? Brilliant ... but scary.\",\n",
       "  'Movie': \"Harry Potter and the Philosopher's Stone\",\n",
       "  'Year': '2001'},\n",
       " {'Characters': 'Ron Weasley',\n",
       "  'Phrase': 'When in doubt, go to the library.',\n",
       "  'Movie': 'Harry Potter and the Chamber of Secrets',\n",
       "  'Year': '2002'},\n",
       " {'Characters': 'Ron Weasley',\n",
       "  'Phrase': 'Don’t let the muggles get you down.',\n",
       "  'Movie': 'Harry Potter and the Prisoner of Azkaban',\n",
       "  'Year': '2004'},\n",
       " {'Characters': 'Ron Weasley',\n",
       "  'Phrase': 'Accio Brain!',\n",
       "  'Movie': 'Harry Potter and the Order of the Phoenix',\n",
       "  'Year': '2007'},\n",
       " {'Characters': 'Ron Weasley',\n",
       "  'Phrase': \"It's Beautiful, Isn't It? The Moon.\",\n",
       "  'Movie': 'Harry Potter and the Half-Blood Prince',\n",
       "  'Year': '2009'},\n",
       " {'Characters': 'Ron Weasley',\n",
       "  'Phrase': \"You're Gonna Suffer, But You're Gonna ... Be Happy About It.\",\n",
       "  'Movie': 'Harry Potter and the Prisoner of Azkaban',\n",
       "  'Year': '2004'},\n",
       " {'Characters': 'Ron Weasley',\n",
       "  'Phrase': \"Yeah, That's Me - Ron Weasley, Harry Potter's Stupid Friend.\",\n",
       "  'Movie': 'Harry Potter and the Goblet of Fire',\n",
       "  'Year': '2005'},\n",
       " {'Characters': 'Ron Weasley',\n",
       "  'Phrase': 'I Look Like My Great-Aunt Tessie ... Smell Like My Great-Aunt Tessie.',\n",
       "  'Movie': 'Harry Potter and the Goblet of Fire',\n",
       "  'Year': '2005'}]"
      ]
     },
     "execution_count": 36,
     "metadata": {},
     "output_type": "execute_result"
    }
   ],
   "source": [
    "filtro = {\"Characters\": {'$eq': \"Ron Weasley\"}}\n",
    "proyecto =  {'_id': 0}\n",
    "result3 = list(db[\"sentiment\"].find(filtro, proyecto))\n",
    "result3"
   ]
  },
  {
   "cell_type": "code",
   "execution_count": 37,
   "id": "sublime-adapter",
   "metadata": {},
   "outputs": [],
   "source": [
    "rw = result3"
   ]
  },
  {
   "cell_type": "markdown",
   "id": "metric-liver",
   "metadata": {},
   "source": [
    "### Creo el último Dataframe con los datos de Ron Weasley"
   ]
  },
  {
   "cell_type": "code",
   "execution_count": 38,
   "id": "sweet-announcement",
   "metadata": {},
   "outputs": [
    {
     "data": {
      "text/html": [
       "<div>\n",
       "<style scoped>\n",
       "    .dataframe tbody tr th:only-of-type {\n",
       "        vertical-align: middle;\n",
       "    }\n",
       "\n",
       "    .dataframe tbody tr th {\n",
       "        vertical-align: top;\n",
       "    }\n",
       "\n",
       "    .dataframe thead th {\n",
       "        text-align: right;\n",
       "    }\n",
       "</style>\n",
       "<table border=\"1\" class=\"dataframe\">\n",
       "  <thead>\n",
       "    <tr style=\"text-align: right;\">\n",
       "      <th></th>\n",
       "      <th>Characters</th>\n",
       "      <th>Phrase</th>\n",
       "      <th>Movie</th>\n",
       "      <th>Year</th>\n",
       "    </tr>\n",
       "  </thead>\n",
       "  <tbody>\n",
       "    <tr>\n",
       "      <th>0</th>\n",
       "      <td>Ron Weasley</td>\n",
       "      <td>You're a little scary sometimes, you know that...</td>\n",
       "      <td>Harry Potter and the Philosopher's Stone</td>\n",
       "      <td>2001</td>\n",
       "    </tr>\n",
       "    <tr>\n",
       "      <th>1</th>\n",
       "      <td>Ron Weasley</td>\n",
       "      <td>When in doubt, go to the library.</td>\n",
       "      <td>Harry Potter and the Chamber of Secrets</td>\n",
       "      <td>2002</td>\n",
       "    </tr>\n",
       "    <tr>\n",
       "      <th>2</th>\n",
       "      <td>Ron Weasley</td>\n",
       "      <td>Don’t let the muggles get you down.</td>\n",
       "      <td>Harry Potter and the Prisoner of Azkaban</td>\n",
       "      <td>2004</td>\n",
       "    </tr>\n",
       "    <tr>\n",
       "      <th>3</th>\n",
       "      <td>Ron Weasley</td>\n",
       "      <td>Accio Brain!</td>\n",
       "      <td>Harry Potter and the Order of the Phoenix</td>\n",
       "      <td>2007</td>\n",
       "    </tr>\n",
       "    <tr>\n",
       "      <th>4</th>\n",
       "      <td>Ron Weasley</td>\n",
       "      <td>It's Beautiful, Isn't It? The Moon.</td>\n",
       "      <td>Harry Potter and the Half-Blood Prince</td>\n",
       "      <td>2009</td>\n",
       "    </tr>\n",
       "    <tr>\n",
       "      <th>5</th>\n",
       "      <td>Ron Weasley</td>\n",
       "      <td>You're Gonna Suffer, But You're Gonna ... Be H...</td>\n",
       "      <td>Harry Potter and the Prisoner of Azkaban</td>\n",
       "      <td>2004</td>\n",
       "    </tr>\n",
       "    <tr>\n",
       "      <th>6</th>\n",
       "      <td>Ron Weasley</td>\n",
       "      <td>Yeah, That's Me - Ron Weasley, Harry Potter's ...</td>\n",
       "      <td>Harry Potter and the Goblet of Fire</td>\n",
       "      <td>2005</td>\n",
       "    </tr>\n",
       "    <tr>\n",
       "      <th>7</th>\n",
       "      <td>Ron Weasley</td>\n",
       "      <td>I Look Like My Great-Aunt Tessie ... Smell Lik...</td>\n",
       "      <td>Harry Potter and the Goblet of Fire</td>\n",
       "      <td>2005</td>\n",
       "    </tr>\n",
       "  </tbody>\n",
       "</table>\n",
       "</div>"
      ],
      "text/plain": [
       "    Characters                                             Phrase  \\\n",
       "0  Ron Weasley  You're a little scary sometimes, you know that...   \n",
       "1  Ron Weasley                  When in doubt, go to the library.   \n",
       "2  Ron Weasley                Don’t let the muggles get you down.   \n",
       "3  Ron Weasley                                       Accio Brain!   \n",
       "4  Ron Weasley                It's Beautiful, Isn't It? The Moon.   \n",
       "5  Ron Weasley  You're Gonna Suffer, But You're Gonna ... Be H...   \n",
       "6  Ron Weasley  Yeah, That's Me - Ron Weasley, Harry Potter's ...   \n",
       "7  Ron Weasley  I Look Like My Great-Aunt Tessie ... Smell Lik...   \n",
       "\n",
       "                                       Movie  Year  \n",
       "0   Harry Potter and the Philosopher's Stone  2001  \n",
       "1    Harry Potter and the Chamber of Secrets  2002  \n",
       "2   Harry Potter and the Prisoner of Azkaban  2004  \n",
       "3  Harry Potter and the Order of the Phoenix  2007  \n",
       "4     Harry Potter and the Half-Blood Prince  2009  \n",
       "5   Harry Potter and the Prisoner of Azkaban  2004  \n",
       "6        Harry Potter and the Goblet of Fire  2005  \n",
       "7        Harry Potter and the Goblet of Fire  2005  "
      ]
     },
     "execution_count": 38,
     "metadata": {},
     "output_type": "execute_result"
    }
   ],
   "source": [
    "df3 = pd.DataFrame(rw)\n",
    "df3"
   ]
  },
  {
   "cell_type": "markdown",
   "id": "scientific-title",
   "metadata": {},
   "source": [
    "### Convierto los dataframes en uno principal"
   ]
  },
  {
   "cell_type": "code",
   "execution_count": 47,
   "id": "recorded-married",
   "metadata": {},
   "outputs": [
    {
     "data": {
      "text/html": [
       "<div>\n",
       "<style scoped>\n",
       "    .dataframe tbody tr th:only-of-type {\n",
       "        vertical-align: middle;\n",
       "    }\n",
       "\n",
       "    .dataframe tbody tr th {\n",
       "        vertical-align: top;\n",
       "    }\n",
       "\n",
       "    .dataframe thead th {\n",
       "        text-align: right;\n",
       "    }\n",
       "</style>\n",
       "<table border=\"1\" class=\"dataframe\">\n",
       "  <thead>\n",
       "    <tr style=\"text-align: right;\">\n",
       "      <th></th>\n",
       "      <th>Characters</th>\n",
       "      <th>Phrase</th>\n",
       "      <th>Movie</th>\n",
       "      <th>Year</th>\n",
       "    </tr>\n",
       "  </thead>\n",
       "  <tbody>\n",
       "    <tr>\n",
       "      <th>0</th>\n",
       "      <td>Harry Potter</td>\n",
       "      <td>I’ll be in my bedroom, making no noise and pre...</td>\n",
       "      <td>Harry Potter and the Chamber of Secrets</td>\n",
       "      <td>2002</td>\n",
       "    </tr>\n",
       "    <tr>\n",
       "      <th>1</th>\n",
       "      <td>Harry Potter</td>\n",
       "      <td>I solemnly swear I am up to no good.</td>\n",
       "      <td>Harry Potter and the Prisoner of Azkaban</td>\n",
       "      <td>2004</td>\n",
       "    </tr>\n",
       "    <tr>\n",
       "      <th>2</th>\n",
       "      <td>Harry Potter</td>\n",
       "      <td>Mischief Managed!</td>\n",
       "      <td>Harry Potter and the Prisoner of Azkaban</td>\n",
       "      <td>2004</td>\n",
       "    </tr>\n",
       "    <tr>\n",
       "      <th>3</th>\n",
       "      <td>Harry Potter</td>\n",
       "      <td>There is no need to call me ‘sir,’ Professor.</td>\n",
       "      <td>Harry Potter and the Half-Blood Prince</td>\n",
       "      <td>2009</td>\n",
       "    </tr>\n",
       "    <tr>\n",
       "      <th>4</th>\n",
       "      <td>Harry Potter</td>\n",
       "      <td>I can, you know, do math and stuff.</td>\n",
       "      <td>Harry Potter and the Philosopher's Stone</td>\n",
       "      <td>2001</td>\n",
       "    </tr>\n",
       "    <tr>\n",
       "      <th>5</th>\n",
       "      <td>Harry Potter</td>\n",
       "      <td>Are you insane? Of course I want to leave the ...</td>\n",
       "      <td>Harry Potter and the Prisoner of Azkaban</td>\n",
       "      <td>2004</td>\n",
       "    </tr>\n",
       "    <tr>\n",
       "      <th>6</th>\n",
       "      <td>Harry Potter</td>\n",
       "      <td>Yeah, Quirrell was a great teacher. There was ...</td>\n",
       "      <td>Harry Potter and the Order of the Phoenix</td>\n",
       "      <td>2007</td>\n",
       "    </tr>\n",
       "    <tr>\n",
       "      <th>7</th>\n",
       "      <td>Harry Potter</td>\n",
       "      <td>I know some things,’ he said. ‘I can, you know...</td>\n",
       "      <td>Harry Potter and the Philosopher's Stone</td>\n",
       "      <td>2001</td>\n",
       "    </tr>\n",
       "    <tr>\n",
       "      <th>8</th>\n",
       "      <td>Hermione Granger</td>\n",
       "      <td>Just because it’s taken you three years to not...</td>\n",
       "      <td>Harry Potter and the Goblet of Fire</td>\n",
       "      <td>2005</td>\n",
       "    </tr>\n",
       "    <tr>\n",
       "      <th>9</th>\n",
       "      <td>Hermione Granger</td>\n",
       "      <td>Dumbledore says people find it far easier to f...</td>\n",
       "      <td>Harry Potter and the Half-Blood Prince</td>\n",
       "      <td>2009</td>\n",
       "    </tr>\n",
       "    <tr>\n",
       "      <th>10</th>\n",
       "      <td>Hermione Granger</td>\n",
       "      <td>Who cares? I mean, It´s sort of exciting, isn´...</td>\n",
       "      <td>Harry Potter and the Order of the Phoenix</td>\n",
       "      <td>2007</td>\n",
       "    </tr>\n",
       "    <tr>\n",
       "      <th>11</th>\n",
       "      <td>Hermione Granger</td>\n",
       "      <td>Excuse me, I have to go vomit.</td>\n",
       "      <td>Harry Potter and the Half-Blood Prince</td>\n",
       "      <td>2009</td>\n",
       "    </tr>\n",
       "    <tr>\n",
       "      <th>12</th>\n",
       "      <td>Hermione Granger</td>\n",
       "      <td>I hope you’re pleased with yourselves. We coul...</td>\n",
       "      <td>Harry Potter and the Philosopher's Stone</td>\n",
       "      <td>2001</td>\n",
       "    </tr>\n",
       "    <tr>\n",
       "      <th>13</th>\n",
       "      <td>Hermione Granger</td>\n",
       "      <td>Twitchy little ferret, aren’t you, Malfoy?</td>\n",
       "      <td>Harry Potter and the Goblet of Fire</td>\n",
       "      <td>2005</td>\n",
       "    </tr>\n",
       "    <tr>\n",
       "      <th>14</th>\n",
       "      <td>Hermione Granger</td>\n",
       "      <td>Fear of a name only increases fear of the thin...</td>\n",
       "      <td>Harry Potter and the Chamber of Secrets</td>\n",
       "      <td>2002</td>\n",
       "    </tr>\n",
       "    <tr>\n",
       "      <th>15</th>\n",
       "      <td>Hermione Granger</td>\n",
       "      <td>Just because you have the emotional range of a...</td>\n",
       "      <td>Harry Potter and the Order of the Phoenix</td>\n",
       "      <td>2007</td>\n",
       "    </tr>\n",
       "    <tr>\n",
       "      <th>16</th>\n",
       "      <td>Ron Weasley</td>\n",
       "      <td>You're a little scary sometimes, you know that...</td>\n",
       "      <td>Harry Potter and the Philosopher's Stone</td>\n",
       "      <td>2001</td>\n",
       "    </tr>\n",
       "    <tr>\n",
       "      <th>17</th>\n",
       "      <td>Ron Weasley</td>\n",
       "      <td>When in doubt, go to the library.</td>\n",
       "      <td>Harry Potter and the Chamber of Secrets</td>\n",
       "      <td>2002</td>\n",
       "    </tr>\n",
       "    <tr>\n",
       "      <th>18</th>\n",
       "      <td>Ron Weasley</td>\n",
       "      <td>Don’t let the muggles get you down.</td>\n",
       "      <td>Harry Potter and the Prisoner of Azkaban</td>\n",
       "      <td>2004</td>\n",
       "    </tr>\n",
       "    <tr>\n",
       "      <th>19</th>\n",
       "      <td>Ron Weasley</td>\n",
       "      <td>Accio Brain!</td>\n",
       "      <td>Harry Potter and the Order of the Phoenix</td>\n",
       "      <td>2007</td>\n",
       "    </tr>\n",
       "    <tr>\n",
       "      <th>20</th>\n",
       "      <td>Ron Weasley</td>\n",
       "      <td>It's Beautiful, Isn't It? The Moon.</td>\n",
       "      <td>Harry Potter and the Half-Blood Prince</td>\n",
       "      <td>2009</td>\n",
       "    </tr>\n",
       "    <tr>\n",
       "      <th>21</th>\n",
       "      <td>Ron Weasley</td>\n",
       "      <td>You're Gonna Suffer, But You're Gonna ... Be H...</td>\n",
       "      <td>Harry Potter and the Prisoner of Azkaban</td>\n",
       "      <td>2004</td>\n",
       "    </tr>\n",
       "    <tr>\n",
       "      <th>22</th>\n",
       "      <td>Ron Weasley</td>\n",
       "      <td>Yeah, That's Me - Ron Weasley, Harry Potter's ...</td>\n",
       "      <td>Harry Potter and the Goblet of Fire</td>\n",
       "      <td>2005</td>\n",
       "    </tr>\n",
       "    <tr>\n",
       "      <th>23</th>\n",
       "      <td>Ron Weasley</td>\n",
       "      <td>I Look Like My Great-Aunt Tessie ... Smell Lik...</td>\n",
       "      <td>Harry Potter and the Goblet of Fire</td>\n",
       "      <td>2005</td>\n",
       "    </tr>\n",
       "  </tbody>\n",
       "</table>\n",
       "</div>"
      ],
      "text/plain": [
       "          Characters                                             Phrase  \\\n",
       "0       Harry Potter  I’ll be in my bedroom, making no noise and pre...   \n",
       "1       Harry Potter               I solemnly swear I am up to no good.   \n",
       "2       Harry Potter                                  Mischief Managed!   \n",
       "3       Harry Potter      There is no need to call me ‘sir,’ Professor.   \n",
       "4       Harry Potter                I can, you know, do math and stuff.   \n",
       "5       Harry Potter  Are you insane? Of course I want to leave the ...   \n",
       "6       Harry Potter  Yeah, Quirrell was a great teacher. There was ...   \n",
       "7       Harry Potter  I know some things,’ he said. ‘I can, you know...   \n",
       "8   Hermione Granger  Just because it’s taken you three years to not...   \n",
       "9   Hermione Granger  Dumbledore says people find it far easier to f...   \n",
       "10  Hermione Granger  Who cares? I mean, It´s sort of exciting, isn´...   \n",
       "11  Hermione Granger                     Excuse me, I have to go vomit.   \n",
       "12  Hermione Granger  I hope you’re pleased with yourselves. We coul...   \n",
       "13  Hermione Granger         Twitchy little ferret, aren’t you, Malfoy?   \n",
       "14  Hermione Granger  Fear of a name only increases fear of the thin...   \n",
       "15  Hermione Granger  Just because you have the emotional range of a...   \n",
       "16       Ron Weasley  You're a little scary sometimes, you know that...   \n",
       "17       Ron Weasley                  When in doubt, go to the library.   \n",
       "18       Ron Weasley                Don’t let the muggles get you down.   \n",
       "19       Ron Weasley                                       Accio Brain!   \n",
       "20       Ron Weasley                It's Beautiful, Isn't It? The Moon.   \n",
       "21       Ron Weasley  You're Gonna Suffer, But You're Gonna ... Be H...   \n",
       "22       Ron Weasley  Yeah, That's Me - Ron Weasley, Harry Potter's ...   \n",
       "23       Ron Weasley  I Look Like My Great-Aunt Tessie ... Smell Lik...   \n",
       "\n",
       "                                        Movie  Year  \n",
       "0     Harry Potter and the Chamber of Secrets  2002  \n",
       "1    Harry Potter and the Prisoner of Azkaban  2004  \n",
       "2    Harry Potter and the Prisoner of Azkaban  2004  \n",
       "3      Harry Potter and the Half-Blood Prince  2009  \n",
       "4    Harry Potter and the Philosopher's Stone  2001  \n",
       "5    Harry Potter and the Prisoner of Azkaban  2004  \n",
       "6   Harry Potter and the Order of the Phoenix  2007  \n",
       "7    Harry Potter and the Philosopher's Stone  2001  \n",
       "8         Harry Potter and the Goblet of Fire  2005  \n",
       "9      Harry Potter and the Half-Blood Prince  2009  \n",
       "10  Harry Potter and the Order of the Phoenix  2007  \n",
       "11     Harry Potter and the Half-Blood Prince  2009  \n",
       "12   Harry Potter and the Philosopher's Stone  2001  \n",
       "13        Harry Potter and the Goblet of Fire  2005  \n",
       "14    Harry Potter and the Chamber of Secrets  2002  \n",
       "15  Harry Potter and the Order of the Phoenix  2007  \n",
       "16   Harry Potter and the Philosopher's Stone  2001  \n",
       "17    Harry Potter and the Chamber of Secrets  2002  \n",
       "18   Harry Potter and the Prisoner of Azkaban  2004  \n",
       "19  Harry Potter and the Order of the Phoenix  2007  \n",
       "20     Harry Potter and the Half-Blood Prince  2009  \n",
       "21   Harry Potter and the Prisoner of Azkaban  2004  \n",
       "22        Harry Potter and the Goblet of Fire  2005  \n",
       "23        Harry Potter and the Goblet of Fire  2005  "
      ]
     },
     "execution_count": 47,
     "metadata": {},
     "output_type": "execute_result"
    }
   ],
   "source": [
    "mains = pd.concat([df1, df2, df3], ignore_index=True)\n",
    "mains"
   ]
  },
  {
   "cell_type": "markdown",
   "id": "established-statement",
   "metadata": {},
   "source": [
    "### Aplico la función de sentimentAnalysis"
   ]
  },
  {
   "cell_type": "code",
   "execution_count": 48,
   "id": "celtic-elite",
   "metadata": {},
   "outputs": [],
   "source": [
    "def sentimentAnalysis(sentence):\n",
    "    sia = SentimentIntensityAnalyzer()\n",
    "    polarity = sia.polarity_scores(sentence)\n",
    "    pol = polarity['compound']\n",
    "    return pol"
   ]
  },
  {
   "cell_type": "code",
   "execution_count": 49,
   "id": "continuing-integrity",
   "metadata": {},
   "outputs": [
    {
     "data": {
      "text/html": [
       "<div>\n",
       "<style scoped>\n",
       "    .dataframe tbody tr th:only-of-type {\n",
       "        vertical-align: middle;\n",
       "    }\n",
       "\n",
       "    .dataframe tbody tr th {\n",
       "        vertical-align: top;\n",
       "    }\n",
       "\n",
       "    .dataframe thead th {\n",
       "        text-align: right;\n",
       "    }\n",
       "</style>\n",
       "<table border=\"1\" class=\"dataframe\">\n",
       "  <thead>\n",
       "    <tr style=\"text-align: right;\">\n",
       "      <th></th>\n",
       "      <th>Characters</th>\n",
       "      <th>Phrase</th>\n",
       "      <th>Movie</th>\n",
       "      <th>Year</th>\n",
       "      <th>sentiment_compound</th>\n",
       "    </tr>\n",
       "  </thead>\n",
       "  <tbody>\n",
       "    <tr>\n",
       "      <th>0</th>\n",
       "      <td>Harry Potter</td>\n",
       "      <td>I’ll be in my bedroom, making no noise and pre...</td>\n",
       "      <td>Harry Potter and the Chamber of Secrets</td>\n",
       "      <td>2002</td>\n",
       "      <td>-0.2023</td>\n",
       "    </tr>\n",
       "    <tr>\n",
       "      <th>1</th>\n",
       "      <td>Harry Potter</td>\n",
       "      <td>I solemnly swear I am up to no good.</td>\n",
       "      <td>Harry Potter and the Prisoner of Azkaban</td>\n",
       "      <td>2004</td>\n",
       "      <td>0.3182</td>\n",
       "    </tr>\n",
       "    <tr>\n",
       "      <th>2</th>\n",
       "      <td>Harry Potter</td>\n",
       "      <td>Mischief Managed!</td>\n",
       "      <td>Harry Potter and the Prisoner of Azkaban</td>\n",
       "      <td>2004</td>\n",
       "      <td>-0.4199</td>\n",
       "    </tr>\n",
       "    <tr>\n",
       "      <th>3</th>\n",
       "      <td>Harry Potter</td>\n",
       "      <td>There is no need to call me ‘sir,’ Professor.</td>\n",
       "      <td>Harry Potter and the Half-Blood Prince</td>\n",
       "      <td>2009</td>\n",
       "      <td>-0.2960</td>\n",
       "    </tr>\n",
       "    <tr>\n",
       "      <th>4</th>\n",
       "      <td>Harry Potter</td>\n",
       "      <td>I can, you know, do math and stuff.</td>\n",
       "      <td>Harry Potter and the Philosopher's Stone</td>\n",
       "      <td>2001</td>\n",
       "      <td>0.0000</td>\n",
       "    </tr>\n",
       "  </tbody>\n",
       "</table>\n",
       "</div>"
      ],
      "text/plain": [
       "     Characters                                             Phrase  \\\n",
       "0  Harry Potter  I’ll be in my bedroom, making no noise and pre...   \n",
       "1  Harry Potter               I solemnly swear I am up to no good.   \n",
       "2  Harry Potter                                  Mischief Managed!   \n",
       "3  Harry Potter      There is no need to call me ‘sir,’ Professor.   \n",
       "4  Harry Potter                I can, you know, do math and stuff.   \n",
       "\n",
       "                                      Movie  Year  sentiment_compound  \n",
       "0   Harry Potter and the Chamber of Secrets  2002             -0.2023  \n",
       "1  Harry Potter and the Prisoner of Azkaban  2004              0.3182  \n",
       "2  Harry Potter and the Prisoner of Azkaban  2004             -0.4199  \n",
       "3    Harry Potter and the Half-Blood Prince  2009             -0.2960  \n",
       "4  Harry Potter and the Philosopher's Stone  2001              0.0000  "
      ]
     },
     "execution_count": 49,
     "metadata": {},
     "output_type": "execute_result"
    }
   ],
   "source": [
    "mains['sentiment_compound'] = mains.Phrase.apply(sentimentAnalysis)\n",
    "mains.head()"
   ]
  },
  {
   "cell_type": "code",
   "execution_count": 50,
   "id": "congressional-stock",
   "metadata": {},
   "outputs": [
    {
     "data": {
      "text/plain": [
       "Harry Potter        8\n",
       "Hermione Granger    8\n",
       "Ron Weasley         8\n",
       "Name: Characters, dtype: int64"
      ]
     },
     "execution_count": 50,
     "metadata": {},
     "output_type": "execute_result"
    }
   ],
   "source": [
    "mains.Characters.value_counts()"
   ]
  },
  {
   "cell_type": "code",
   "execution_count": 60,
   "id": "front-limit",
   "metadata": {},
   "outputs": [
    {
     "data": {
      "text/plain": [
       "Characters\n",
       "Hermione Granger   -0.063000\n",
       "Harry Potter       -0.045925\n",
       "Ron Weasley         0.077900\n",
       "Name: sentiment_compound, dtype: float64"
      ]
     },
     "execution_count": 60,
     "metadata": {},
     "output_type": "execute_result"
    }
   ],
   "source": [
    "resumen2 = mains.groupby(['Characters'])['sentiment_compound'].mean().sort_values()\n",
    "resumen2"
   ]
  },
  {
   "cell_type": "markdown",
   "id": "adjustable-civilization",
   "metadata": {},
   "source": [
    "### Conclusión 2:\n",
    "\n",
    "\n",
    "- De los 3 protagonistas y según las frases analizadas;\n",
    "    - Ron Weasley con una media de 0.077900 es el que más polaridad positiva tiene.\n",
    "    - Hermione Granger y Harry Potter tienen polaridad negativa, siendo la media de Hermione -0.063000 y la de Harry -0.045925.\n",
    "    \n"
   ]
  },
  {
   "cell_type": "code",
   "execution_count": 69,
   "id": "fossil-georgia",
   "metadata": {},
   "outputs": [
    {
     "data": {
      "image/png": "[encoded data removed]",
      "text/plain": [
       "<Figure size 360x504 with 1 Axes>"
      ]
     },
     "metadata": {},
     "output_type": "display_data"
    }
   ],
   "source": [
    "sns.set(rc={'figure.figsize':(5,7)})\n",
    "resumen2.plot(kind=\"bar\")\n",
    "fig.savefig(\"mains.jpg\")"
   ]
  }
 ],
 "metadata": {
  "kernelspec": {
   "display_name": "Python 3",
   "language": "python",
   "name": "python3"
  },
  "language_info": {
   "codemirror_mode": {
    "name": "ipython",
    "version": 3
   },
   "file_extension": ".py",
   "mimetype": "text/x-python",
   "name": "python",
   "nbconvert_exporter": "python",
   "pygments_lexer": "ipython3",
   "version": "3.8.5"
  },
  "toc": {
   "base_numbering": 1,
   "nav_menu": {},
   "number_sections": true,
   "sideBar": true,
   "skip_h1_title": false,
   "title_cell": "Table of Contents",
   "title_sidebar": "Contents",
   "toc_cell": false,
   "toc_position": {},
   "toc_section_display": true,
   "toc_window_display": true
  },
  "varInspector": {
   "cols": {
    "lenName": 16,
    "lenType": 16,
    "lenVar": 40
   },
   "kernels_config": {
    "python": {
     "delete_cmd_postfix": "",
     "delete_cmd_prefix": "del ",
     "library": "var_list.py",
     "varRefreshCmd": "print(var_dic_list())"
    },
    "r": {
     "delete_cmd_postfix": ") ",
     "delete_cmd_prefix": "rm(",
     "library": "var_list.r",
     "varRefreshCmd": "cat(var_dic_list()) "
    }
   },
   "types_to_exclude": [
    "module",
    "function",
    "builtin_function_or_method",
    "instance",
    "_Feature"
   ],
   "window_display": false
  }
 },
 "nbformat": 4,
 "nbformat_minor": 5
}
