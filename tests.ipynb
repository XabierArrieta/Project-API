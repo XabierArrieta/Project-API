{
 "cells": [
  {
   "cell_type": "markdown",
   "id": "beginning-worst",
   "metadata": {},
   "source": [
    "# Harry Potter API"
   ]
  },
  {
   "cell_type": "code",
   "execution_count": 44,
   "id": "multiple-trailer",
   "metadata": {},
   "outputs": [],
   "source": [
    "import requests\n",
    "import json\n",
    "from pymongo import MongoClient\n",
    "from mongoConnection import *\n",
    "from flask import Flask, request, jsonify\n",
    "from bson.json_util import dumps"
   ]
  },
  {
   "cell_type": "markdown",
   "id": "lasting-child",
   "metadata": {},
   "source": [
    "## Conecto con Mongo"
   ]
  },
  {
   "cell_type": "code",
   "execution_count": 2,
   "id": "approved-workstation",
   "metadata": {},
   "outputs": [],
   "source": [
    "client = MongoClient(\"mongodb://localhost/harrypotter\")\n",
    "db = client.get_database()\n",
    "client.harrypotter\n",
    "quots = client.harrypotter.quotes\n",
    "chars = client.harrypotter.cast\n",
    "movs = client.harrypotter.movies"
   ]
  },
  {
   "cell_type": "markdown",
   "id": "featured-mountain",
   "metadata": {},
   "source": [
    "## Bienvenid@ a mi API!"
   ]
  },
  {
   "cell_type": "code",
   "execution_count": 3,
   "id": "existing-field",
   "metadata": {},
   "outputs": [
    {
     "data": {
      "text/plain": [
       "'Welcome to the magical world of Harry Potter'"
      ]
     },
     "execution_count": 3,
     "metadata": {},
     "output_type": "execute_result"
    }
   ],
   "source": [
    "res = requests.get(\"http://127.0.0.1:5000/welcome\")\n",
    "res.text"
   ]
  },
  {
   "cell_type": "markdown",
   "id": "amino-saturday",
   "metadata": {},
   "source": [
    "### Listo las colecciones de mi base de datos para ver que funciona"
   ]
  },
  {
   "cell_type": "code",
   "execution_count": 4,
   "id": "sacred-currency",
   "metadata": {},
   "outputs": [
    {
     "data": {
      "text/plain": [
       "[{'name': 'movies',\n",
       "  'type': 'collection',\n",
       "  'options': {},\n",
       "  'info': {'readOnly': False,\n",
       "   'uuid': UUID('0455be61-1c18-40fc-9f1b-e0f664a5bbd3')},\n",
       "  'idIndex': {'v': 2, 'key': {'_id': 1}, 'name': '_id_'}},\n",
       " {'name': 'cast',\n",
       "  'type': 'collection',\n",
       "  'options': {},\n",
       "  'info': {'readOnly': False,\n",
       "   'uuid': UUID('550c4a80-4343-41c9-9117-1b2248447ac9')},\n",
       "  'idIndex': {'v': 2, 'key': {'_id': 1}, 'name': '_id_'}},\n",
       " {'name': 'quotes',\n",
       "  'type': 'collection',\n",
       "  'options': {},\n",
       "  'info': {'readOnly': False,\n",
       "   'uuid': UUID('a2ce707d-f2fb-447c-9d38-15801a892dbd')},\n",
       "  'idIndex': {'v': 2, 'key': {'_id': 1}, 'name': '_id_'}},\n",
       " {'name': 'characters',\n",
       "  'type': 'collection',\n",
       "  'options': {},\n",
       "  'info': {'readOnly': False,\n",
       "   'uuid': UUID('e3ccc85d-ef92-4ee8-a7f4-3fc8abf13dcd')},\n",
       "  'idIndex': {'v': 2, 'key': {'_id': 1}, 'name': '_id_'}}]"
      ]
     },
     "execution_count": 4,
     "metadata": {},
     "output_type": "execute_result"
    }
   ],
   "source": [
    "list(db.list_collections())"
   ]
  },
  {
   "cell_type": "markdown",
   "id": "seven-australia",
   "metadata": {},
   "source": [
    "## Colección Quotes"
   ]
  },
  {
   "cell_type": "markdown",
   "id": "nominated-swiss",
   "metadata": {},
   "source": [
    "### Busco todas las frases dichas en las peliculas"
   ]
  },
  {
   "cell_type": "code",
   "execution_count": 5,
   "id": "political-central",
   "metadata": {},
   "outputs": [
    {
     "data": {
      "text/plain": [
       "'[\\n  {\\n    \"Characters\": \"Harry Potter\", \\n    \"Movie\": \"Harry Potter and the Chamber of Secrets\", \\n    \"Phrase\": \"I\\\\u2019ll be in my bedroom, making no noise and pretending I\\\\u2019m not there.\", \\n    \"Year\": \"2002\"\\n  }, \\n  {\\n    \"Characters\": \"Harry Potter\", \\n    \"Movie\": \"Harry Potter and the Prisoner of Azkaban\", \\n    \"Phrase\": \"I solemnly swear I am up to no good.\", \\n    \"Year\": \"2004\"\\n  }, \\n  {\\n    \"Characters\": \"Harry Potter\", \\n    \"Movie\": \"Harry Potter and the Prisoner of Azkaban\", \\n    \"Phrase\": \"Mischief Managed!\", \\n    \"Year\": \"2004\"\\n  }, \\n  {\\n    \"Characters\": \"Harry Potter\", \\n    \"Movie\": \"Harry Potter and the Half-Blood Prince\", \\n    \"Phrase\": \"There is no need to call me \\\\u2018sir,\\\\u2019 Professor.\", \\n    \"Year\": \"2009\"\\n  }, \\n  {\\n    \"Characters\": \"Hermione Gringer\", \\n    \"Movie\": \"Harry Potter and the Goblet of Fire\", \\n    \"Phrase\": \"Twitchy little ferret, aren\\\\u2019t you, Malfoy?\", \\n    \"Year\": \"2005\"\\n  }, \\n  {\\n    \"Characters\": \"Hermione Gringer\", \\n    \"Movie\": \"Harry P'"
      ]
     },
     "execution_count": 5,
     "metadata": {},
     "output_type": "execute_result"
    }
   ],
   "source": [
    "res = requests.get(\"http://127.0.0.1:5000/phrase\")\n",
    "res.text[:1000]"
   ]
  },
  {
   "cell_type": "markdown",
   "id": "secure-missile",
   "metadata": {},
   "source": [
    "### Busco una frase de la pelicula"
   ]
  },
  {
   "cell_type": "markdown",
   "id": "disturbed-virgin",
   "metadata": {},
   "source": [
    "#### Primero hago una query a mongo para ver las frases."
   ]
  },
  {
   "cell_type": "code",
   "execution_count": 6,
   "id": "insured-portuguese",
   "metadata": {},
   "outputs": [
    {
     "data": {
      "text/plain": [
       "[{'Characters': 'Harry Potter',\n",
       "  'Phrase': 'I’ll be in my bedroom, making no noise and pretending I’m not there.'},\n",
       " {'Characters': 'Harry Potter',\n",
       "  'Phrase': 'I solemnly swear I am up to no good.'},\n",
       " {'Characters': 'Harry Potter', 'Phrase': 'Mischief Managed!'},\n",
       " {'Characters': 'Harry Potter',\n",
       "  'Phrase': 'There is no need to call me ‘sir,’ Professor.'},\n",
       " {'Characters': 'Hermione Gringer',\n",
       "  'Phrase': 'Twitchy little ferret, aren’t you, Malfoy?'},\n",
       " {'Characters': 'Hermione Gringer',\n",
       "  'Phrase': 'Fear of a name only increases fear of the thing itself.'},\n",
       " {'Characters': 'Hermione Gringer',\n",
       "  'Phrase': \"Just because you have the emotional range of a teaspoon doesn't mean we all have.\"},\n",
       " {'Characters': 'Ron Weasley',\n",
       "  'Phrase': \"You're a little scary sometimes, you know that? Brilliant ... but scary.\"},\n",
       " {'Characters': 'Ron Weasley', 'Phrase': 'When in doubt, go to the library.'},\n",
       " {'Characters': 'Ron Weasley',\n",
       "  'Phrase': 'Don’t let the muggles get you down.'}]"
      ]
     },
     "execution_count": 6,
     "metadata": {},
     "output_type": "execute_result"
    }
   ],
   "source": [
    "info = list(db.quotes.find({}, {\"Phrase\":1, \"_id\":0, \"Characters\":1}))\n",
    "info[:10]"
   ]
  },
  {
   "cell_type": "markdown",
   "id": "tender-functionality",
   "metadata": {},
   "source": [
    "### Pruebo con la API a buscar una frase."
   ]
  },
  {
   "cell_type": "code",
   "execution_count": 7,
   "id": "mechanical-access",
   "metadata": {},
   "outputs": [
    {
     "data": {
      "text/plain": [
       "'[\\n  {\\n    \"Characters\": \"Ron Weasley\", \\n    \"Movie\": \"Harry Potter and the Prisoner of Azkaban\", \\n    \"Phrase\": \"Don\\\\u2019t let the muggles get you down.\", \\n    \"Year\": \"2004\"\\n  }\\n]\\n'"
      ]
     },
     "execution_count": 7,
     "metadata": {},
     "output_type": "execute_result"
    }
   ],
   "source": [
    "res = requests.get(\"http://127.0.0.1:5000/phrase/Don’t let the muggles get you down.\")\n",
    "res.text"
   ]
  },
  {
   "cell_type": "markdown",
   "id": "outer-maria",
   "metadata": {},
   "source": [
    "### Creo un nueva frase y la inserto"
   ]
  },
  {
   "cell_type": "code",
   "execution_count": 22,
   "id": "hired-florida",
   "metadata": {},
   "outputs": [],
   "source": [
    "new_message = {\n",
    "    \"Characters\": \"Albus Dumbledore\",\n",
    "    \"Phrase\": \"You need your friends, Harry\",\n",
    "    \"Movie\": \"Harry Potter and the Half-Blood Prince\",\n",
    "    \"Year\": \"2009\"\n",
    "    }"
   ]
  },
  {
   "cell_type": "code",
   "execution_count": 23,
   "id": "breeding-graph",
   "metadata": {},
   "outputs": [
    {
     "data": {
      "text/plain": [
       "<Response [200]>"
      ]
     },
     "execution_count": 23,
     "metadata": {},
     "output_type": "execute_result"
    }
   ],
   "source": [
    "res = requests.get(\"http://127.0.0.1:5000/add/new_quote/<Characters>/<Phrase>/<Movie>/<Year>\")\n",
    "res"
   ]
  },
  {
   "cell_type": "code",
   "execution_count": 28,
   "id": "adverse-cooperation",
   "metadata": {},
   "outputs": [
    {
     "data": {
      "text/plain": [
       "<pymongo.results.InsertOneResult at 0x7f7f74ae97c0>"
      ]
     },
     "execution_count": 28,
     "metadata": {},
     "output_type": "execute_result"
    }
   ],
   "source": [
    "insert_quote(\"Albus Dumbledore\",\"You need your friends, Harry\",\"Harry Potter and the Half-Blood Prince\",\"2009\")"
   ]
  },
  {
   "cell_type": "code",
   "execution_count": 27,
   "id": "difficult-board",
   "metadata": {},
   "outputs": [
    {
     "data": {
      "text/plain": [
       "<pymongo.results.InsertOneResult at 0x7f7f74a8fec0>"
      ]
     },
     "execution_count": 27,
     "metadata": {},
     "output_type": "execute_result"
    }
   ],
   "source": [
    "insert_quote(\"Ron Weasley\",\"I always said he was mental. Brilliant and everything, but cracked.\",\"Harry Potter and the Deathly Hallows - Part 1\", \"2010\")"
   ]
  },
  {
   "cell_type": "markdown",
   "id": "alpha-montreal",
   "metadata": {},
   "source": [
    "### Elimino un frase"
   ]
  },
  {
   "cell_type": "code",
   "execution_count": 39,
   "id": "conditional-assurance",
   "metadata": {},
   "outputs": [
    {
     "data": {
      "text/plain": [
       "<Response [200]>"
      ]
     },
     "execution_count": 39,
     "metadata": {},
     "output_type": "execute_result"
    }
   ],
   "source": [
    "res = requests.get(\"http://127.0.0.1:5000/delete_quote/<Characters>/<Phrase>/<Movie>/<Year>\")\n",
    "res"
   ]
  },
  {
   "cell_type": "code",
   "execution_count": 29,
   "id": "younger-straight",
   "metadata": {},
   "outputs": [
    {
     "data": {
      "text/plain": [
       "{'n': 1, 'ok': 1.0}"
      ]
     },
     "execution_count": 29,
     "metadata": {},
     "output_type": "execute_result"
    }
   ],
   "source": [
    "delete_quote(\"Albus Dumbledore\",\"You need your friends, Harry\",\"Harry Potter and the Half-Blood Prince\",\"2009\")"
   ]
  },
  {
   "cell_type": "markdown",
   "id": "fitting-representation",
   "metadata": {},
   "source": [
    "## Colección Cast"
   ]
  },
  {
   "cell_type": "markdown",
   "id": "sitting-shower",
   "metadata": {},
   "source": [
    "### Busco todos los personajes"
   ]
  },
  {
   "cell_type": "code",
   "execution_count": 30,
   "id": "governmental-guide",
   "metadata": {},
   "outputs": [
    {
     "data": {
      "text/plain": [
       "'[\\n  {\\n    \"Actor name\": \"Daniel Radcliffe\", \\n    \"Characters\": \"Harry Potter\", \\n    \"Role\": \"Student\"\\n  }, \\n  {\\n    \"Actor name\": \"Emma Watson\", \\n    \"Characters\": \"Hermione Gringer\", \\n    \"Role\": \"Student\"\\n  }, \\n  {\\n    \"Actor name\": \"Rupert Grint\", \\n    \"Characters\": \"Ron Weasley\", \\n    \"Role\": \"Student\"\\n  }, \\n  {\\n    \"Actor name\": \"Richard Harris, Michael Gambon\", \\n    \"Characters\": \"Albus Dumbledore\", \\n    \"Role\": \"Director of Hogwarts\"\\n  }, \\n  {\\n    \"Actor name\": \"Maggie Smith\", \\n    \"Characters\": \"Minerva McGonagall\", \\n    \"Role\": \"Teacher\"\\n  }, \\n  {\\n    \"Actor name\": \"Alan Rickman\", \\n    \"Characters\": \"Severus Snape\", \\n    \"Role\": \"Teacher\"\\n  }, \\n  {\\n    \"Actor name\": \"Robbie Coltrane\", \\n    \"Characters\": \"Rubeus Hagrid\", \\n    \"Role\": \"Key keeper\"\\n  }, \\n  {\\n    \"Actor name\": \"Tom Felton\", \\n    \"Characters\": \"Draco Malfoy\", \\n    \"Role\": \"Student\"\\n  }, \\n  {\\n    \"Actor name\": \"Toby Jones\", \\n    \"Characters\": \"Dobby\", \\n    \"Role\": \"Elf\"\\n  }, \\n  {\\n    \"Actor name\": \"Richard Bremmer, '"
      ]
     },
     "execution_count": 30,
     "metadata": {},
     "output_type": "execute_result"
    }
   ],
   "source": [
    "res2 = requests.get(\"http://127.0.0.1:5000/characters\")\n",
    "res2.text[:1000]"
   ]
  },
  {
   "cell_type": "markdown",
   "id": "capital-andorra",
   "metadata": {},
   "source": [
    "### Pruebo con la API a buscar un personaje"
   ]
  },
  {
   "cell_type": "code",
   "execution_count": 31,
   "id": "surrounded-lloyd",
   "metadata": {},
   "outputs": [
    {
     "data": {
      "text/plain": [
       "'[\\n  {\\n    \"Actor name\": \"Daniel Radcliffe\", \\n    \"Characters\": \"Harry Potter\", \\n    \"Role\": \"Student\"\\n  }\\n]\\n'"
      ]
     },
     "execution_count": 31,
     "metadata": {},
     "output_type": "execute_result"
    }
   ],
   "source": [
    "res3 = requests.get(\"http://127.0.0.1:5000/characters/Harry Potter\")\n",
    "res3.text"
   ]
  },
  {
   "cell_type": "markdown",
   "id": "novel-attachment",
   "metadata": {},
   "source": [
    "### Inserto un nuevo personaje"
   ]
  },
  {
   "cell_type": "code",
   "execution_count": 37,
   "id": "emerging-insured",
   "metadata": {},
   "outputs": [],
   "source": [
    "new_char = {\n",
    "    \"Characters\":\"Rolanda Hooch\",\n",
    "    \"Role\":\"Referee for Hogwarts Quidditch matches\",\n",
    "    \"Actor name\":\"Zoë Wanamaker\"   \n",
    "}"
   ]
  },
  {
   "cell_type": "code",
   "execution_count": 38,
   "id": "occupied-consultation",
   "metadata": {},
   "outputs": [
    {
     "data": {
      "text/plain": [
       "<Response [200]>"
      ]
     },
     "execution_count": 38,
     "metadata": {},
     "output_type": "execute_result"
    }
   ],
   "source": [
    "res = requests.get(\"http://127.0.0.1:5000/add/new_char/<Characters>/<Role>/<Actorname>\")\n",
    "res"
   ]
  },
  {
   "cell_type": "code",
   "execution_count": 35,
   "id": "recognized-threat",
   "metadata": {},
   "outputs": [
    {
     "data": {
      "text/plain": [
       "<pymongo.results.InsertOneResult at 0x7f7f73c84e00>"
      ]
     },
     "execution_count": 35,
     "metadata": {},
     "output_type": "execute_result"
    }
   ],
   "source": [
    "insert_char(\"Luna Lovegood\",\"Student\",\"Evanna Lynch\")"
   ]
  },
  {
   "cell_type": "code",
   "execution_count": 36,
   "id": "rough-motion",
   "metadata": {},
   "outputs": [
    {
     "data": {
      "text/plain": [
       "<pymongo.results.InsertOneResult at 0x7f7f74af7500>"
      ]
     },
     "execution_count": 36,
     "metadata": {},
     "output_type": "execute_result"
    }
   ],
   "source": [
    "insert_char(\"Rolanda Hooch\",\"Referee for Hogwarts Quidditch matches\",\"Zoë Wanamaker\")"
   ]
  },
  {
   "cell_type": "markdown",
   "id": "obvious-compilation",
   "metadata": {},
   "source": [
    "### Elimino un nuevo personaje"
   ]
  },
  {
   "cell_type": "code",
   "execution_count": 40,
   "id": "victorian-spiritual",
   "metadata": {},
   "outputs": [
    {
     "data": {
      "text/plain": [
       "<Response [200]>"
      ]
     },
     "execution_count": 40,
     "metadata": {},
     "output_type": "execute_result"
    }
   ],
   "source": [
    "res = requests.get(\"http://127.0.0.1:5000/delete_char/<Characters>/<Role>/<Actorname>\")\n",
    "res"
   ]
  },
  {
   "cell_type": "code",
   "execution_count": 41,
   "id": "musical-spiritual",
   "metadata": {},
   "outputs": [
    {
     "data": {
      "text/plain": [
       "{'n': 4, 'ok': 1.0}"
      ]
     },
     "execution_count": 41,
     "metadata": {},
     "output_type": "execute_result"
    }
   ],
   "source": [
    "delete_char(\"Rolanda Hooch\",\"Referee for Hogwarts Quidditch matches\",\"Zoë Wanamaker\")"
   ]
  }
 ],
 "metadata": {
  "kernelspec": {
   "display_name": "Python 3",
   "language": "python",
   "name": "python3"
  },
  "language_info": {
   "codemirror_mode": {
    "name": "ipython",
    "version": 3
   },
   "file_extension": ".py",
   "mimetype": "text/x-python",
   "name": "python",
   "nbconvert_exporter": "python",
   "pygments_lexer": "ipython3",
   "version": "3.8.5"
  },
  "toc": {
   "base_numbering": 1,
   "nav_menu": {},
   "number_sections": true,
   "sideBar": true,
   "skip_h1_title": false,
   "title_cell": "Table of Contents",
   "title_sidebar": "Contents",
   "toc_cell": false,
   "toc_position": {},
   "toc_section_display": true,
   "toc_window_display": true
  },
  "varInspector": {
   "cols": {
    "lenName": 16,
    "lenType": 16,
    "lenVar": 40
   },
   "kernels_config": {
    "python": {
     "delete_cmd_postfix": "",
     "delete_cmd_prefix": "del ",
     "library": "var_list.py",
     "varRefreshCmd": "print(var_dic_list())"
    },
    "r": {
     "delete_cmd_postfix": ") ",
     "delete_cmd_prefix": "rm(",
     "library": "var_list.r",
     "varRefreshCmd": "cat(var_dic_list()) "
    }
   },
   "types_to_exclude": [
    "module",
    "function",
    "builtin_function_or_method",
    "instance",
    "_Feature"
   ],
   "window_display": false
  }
 },
 "nbformat": 4,
 "nbformat_minor": 5
}
